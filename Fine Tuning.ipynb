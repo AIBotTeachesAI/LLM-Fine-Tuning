{
 "cells": [
  {
   "cell_type": "code",
   "execution_count": null,
   "id": "f489e7a0-7a68-4aca-ae77-41d60f5cda72",
   "metadata": {},
   "outputs": [],
   "source": []
  },
  {
   "cell_type": "markdown",
   "id": "54804459-3895-46cd-aaef-0f971318c1e5",
   "metadata": {},
   "source": [
    "# Use case -  Harry potter Spell\n",
    "\n",
    "## 1. By default, the spells in the Harry Potter series are primarily based on Latin or Latin-inspired words.\n",
    "\n",
    "## 2. For our use case, let us say we want to change this behavior.\n",
    "\n",
    "## 3. Let us say, we do not want latin words, but we will use english words and add some suffix to them make it sound like spell words.\n",
    "\n",
    "## 4. We will use sentences with 2 words. To convert it in to spell word, we will make the first word to be second and the second to be first.\n",
    "\n",
    "## 5. We will also add some suffix to the words to look like spell words.\n",
    "\n",
    "## 6. For example\n",
    "####      throw ball will become ballus throwum,\n",
    "####      drink water will become waterade drinkum"
   ]
  },
  {
   "cell_type": "markdown",
   "id": "1948a586-4584-4262-8618-8a23a0322144",
   "metadata": {},
   "source": [
    "## Steps for fine tuning\n",
    "\n",
    "### Step 1. Prepare training data\n",
    "\n",
    "### Step 2. Create fine tuning job and run training\n",
    "\n",
    "### Step 3. Check status and metrics\n",
    "\n",
    "### Step 4. use fine tuned model for prediction\n"
   ]
  },
  {
   "cell_type": "markdown",
   "id": "f0612da7-3e54-4b09-bda1-c692faa0e6cd",
   "metadata": {},
   "source": [
    "## Step 1 Prepare Training Data"
   ]
  },
  {
   "cell_type": "code",
   "execution_count": 55,
   "id": "fad4906c-5201-4acb-be80-0e69c3150cb2",
   "metadata": {},
   "outputs": [
    {
     "name": "stdout",
     "output_type": "stream",
     "text": [
      "{\"messages\": [{\"role\": \"system\", \"content\": \"you are an assistant that will answer in harry potter spell format.\"}, {\"role\": \"user\", \"content\": \"throw ball\"}, {\"role\": \"assistant\", \"content\": \"ballus throwum\"}]}\n",
      "{\"messages\": [{\"role\": \"system\", \"content\": \"you are an assistant that will answer in harry potter spell format.\"}, {\"role\": \"user\", \"content\": \"drink water\"}, {\"role\": \"assistant\", \"content\": \"waterade drinkum\"}]}\n",
      "{\"messages\": [{\"role\": \"system\", \"content\": \"you are an assistant that will answer in harry potter spell format.\"}, {\"role\": \"user\", \"content\": \"play piano\"}, {\"role\": \"assistant\", \"content\": \"pianus playum\"}]}\n",
      "{\"messages\": [{\"role\": \"system\", \"content\": \"you are an assistant that will answer in harry potter spell format.\"}, {\"role\": \"user\", \"content\": \"sing song\"}, {\"role\": \"assistant\", \"content\": \"songic singus\"}]}\n",
      "{\"messages\": [{\"role\": \"system\", \"content\": \"you are an assistant that will answer in harry potter spell format.\"}, {\"role\": \"user\", \"content\": \"eat food\"}, {\"role\": \"assistant\", \"content\": \"foodis eatus\"}]}\n",
      "{\"messages\": [{\"role\": \"system\", \"content\": \"you are an assistant that will answer in harry potter spell format.\"}, {\"role\": \"user\", \"content\": \"learn math\"}, {\"role\": \"assistant\", \"content\": \"mathus learnic\"}]}\n",
      "{\"messages\": [{\"role\": \"system\", \"content\": \"you are an assistant that will answer in harry potter spell format.\"}, {\"role\": \"user\", \"content\": \"fly high\"}, {\"role\": \"assistant\", \"content\": \"hightech flyus\"}]}\n",
      "{\"messages\": [{\"role\": \"system\", \"content\": \"you are an assistant that will answer in harry potter spell format.\"}, {\"role\": \"user\", \"content\": \"run fast\"}, {\"role\": \"assistant\", \"content\": \"speedum runus\"}]}\n",
      "{\"messages\": [{\"role\": \"system\", \"content\": \"you are an assistant that will answer in harry potter spell format.\"}, {\"role\": \"user\", \"content\": \"write code\"}, {\"role\": \"assistant\", \"content\": \"codus writeum\"}]}\n",
      "{\"messages\": [{\"role\": \"system\", \"content\": \"you are an assistant that will answer in harry potter spell format.\"}, {\"role\": \"user\", \"content\": \"video game\"}, {\"role\": \"assistant\", \"content\": \"sportus videum\"}]}\n",
      "{\"messages\": [{\"role\": \"system\", \"content\": \"you are an assistant that will answer in harry potter spell format.\"}, {\"role\": \"user\", \"content\": \"tv show\"}, {\"role\": \"assistant\", \"content\": \"showus tvum\"}]}\n",
      "{\"messages\": [{\"role\": \"system\", \"content\": \"you are an assistant that will answer in harry potter spell format.\"}, {\"role\": \"user\", \"content\": \"computer monitor\"}, {\"role\": \"assistant\", \"content\": \"monituric computerus\"}]}\n",
      "{\"messages\": [{\"role\": \"system\", \"content\": \"you are an assistant that will answer in harry potter spell format.\"}, {\"role\": \"user\", \"content\": \"soccer game\"}, {\"role\": \"assistant\", \"content\": \"sportus soccerum\"}]}\n",
      "{\"messages\": [{\"role\": \"system\", \"content\": \"you are an assistant that will answer in harry potter spell format.\"}, {\"role\": \"user\", \"content\": \"iphone app\"}, {\"role\": \"assistant\", \"content\": \"appic iphonus\"}]}\n",
      "{\"messages\": [{\"role\": \"system\", \"content\": \"you are an assistant that will answer in harry potter spell format.\"}, {\"role\": \"user\", \"content\": \"chat gpt\"}, {\"role\": \"assistant\", \"content\": \"gptis chatus\"}]}"
     ]
    }
   ],
   "source": [
    "!cat spell_list.jsonl"
   ]
  },
  {
   "cell_type": "code",
   "execution_count": null,
   "id": "7c350280-1549-4cb0-81b1-5d36fea2dcd8",
   "metadata": {},
   "outputs": [],
   "source": [
    "from openai import OpenAI\n",
    "import os\n",
    "\n",
    "api_key = os.getenv(\"open_ai_secret_key\")\n",
    "client = OpenAI(api_key=api_key)"
   ]
  },
  {
   "cell_type": "markdown",
   "id": "cbcf4a29-25f3-4cad-8971-5b3ea77c3e44",
   "metadata": {},
   "source": [
    "## Get Response before fine tuning"
   ]
  },
  {
   "cell_type": "code",
   "execution_count": 30,
   "id": "10e87e2a-02a6-4c3f-a497-c77adaae59d1",
   "metadata": {},
   "outputs": [
    {
     "name": "stdout",
     "output_type": "stream",
     "text": [
      "ChatCompletionMessage(content='Accio Ball!', role='assistant', function_call=None, tool_calls=None)\n"
     ]
    }
   ],
   "source": [
    "response = client.chat.completions.create(\n",
    "  #model=\"gpt-3.5-turbo-0613\",\n",
    "    model=\"gpt-3.5-turbo\",\n",
    "  messages=[\n",
    "    {\"role\": \"system\", \"content\": \"you are an assistant that will answer in harry potter spell format.\"},\n",
    "    {\"role\": \"user\", \"content\": \"throw ball?\"}\n",
    "  ]\n",
    ")\n",
    "print(response.choices[0].message)"
   ]
  },
  {
   "cell_type": "markdown",
   "id": "620b0c48-8241-44ea-9e87-26b80967c1fb",
   "metadata": {},
   "source": [
    "## Check why llm gave the response "
   ]
  },
  {
   "cell_type": "code",
   "execution_count": 47,
   "id": "cbbc703f-24d8-47eb-b8a1-5e548a01e054",
   "metadata": {},
   "outputs": [
    {
     "name": "stdout",
     "output_type": "stream",
     "text": [
      "ChatCompletionMessage(content='\"Accio\" is a Latin word that means \"I summon\" or \"I call for\". It is a command used within the wizarding world of Harry Potter to summon an object towards the wand-wielder. In this context, \"Accio Ball\" would be a spell used to summon a ball.', role='assistant', function_call=None, tool_calls=None)\n"
     ]
    }
   ],
   "source": [
    "response = client.chat.completions.create(\n",
    "  #model=\"gpt-3.5-turbo-0613\",\n",
    "    model=\"gpt-3.5-turbo\",\n",
    "  messages=[\n",
    "    {\"role\": \"system\", \"content\": \"you are an helpful assistant who explains origin language of below\"},\n",
    "    {\"role\": \"user\", \"content\": \"Accio Ball!\"}\n",
    "  ]\n",
    ")\n",
    "print(response.choices[0].message)"
   ]
  },
  {
   "cell_type": "code",
   "execution_count": null,
   "id": "5f04003d-727b-42c1-973d-955f103be72d",
   "metadata": {},
   "outputs": [],
   "source": []
  },
  {
   "cell_type": "markdown",
   "id": "7ef5d5f6-037a-4326-96ff-554b3f9565aa",
   "metadata": {},
   "source": [
    "## Step 2. Create fine tuning job and run training"
   ]
  },
  {
   "cell_type": "code",
   "execution_count": null,
   "id": "aee6ec56-367c-4938-8205-5cb14d068076",
   "metadata": {},
   "outputs": [],
   "source": [
    "#upload training file\n",
    "spell_file = client.files.create(\n",
    "  file=open(\"spell_list.jsonl\", \"rb\"),purpose=\"fine-tune\"\n",
    ")"
   ]
  },
  {
   "cell_type": "code",
   "execution_count": 31,
   "id": "1ab2a6a5-299f-42af-a8dc-f8190e2f12bc",
   "metadata": {},
   "outputs": [
    {
     "data": {
      "text/plain": [
       "FineTuningJob(id='ftjob-pnoDYapj3ivKfEWqMn3lxtZ5', created_at=1706465262, error=None, fine_tuned_model=None, finished_at=None, hyperparameters=Hyperparameters(n_epochs='auto', batch_size='auto', learning_rate_multiplier='auto'), model='gpt-3.5-turbo-0613', object='fine_tuning.job', organization_id='org-tTzcQbMEGIFBiKMGjDbIh6Zr', result_files=[], status='validating_files', trained_tokens=None, training_file='file-JPbH5fwE9oeHJSqrmMIkHmli', validation_file=None)"
      ]
     },
     "execution_count": 31,
     "metadata": {},
     "output_type": "execute_result"
    }
   ],
   "source": [
    "client.fine_tuning.jobs.create(\n",
    "  training_file=spell_file.id,\n",
    "  model=\"gpt-3.5-turbo\"\n",
    ")"
   ]
  },
  {
   "cell_type": "markdown",
   "id": "20fd68e0-7ece-4ed8-a530-67ac829fc19d",
   "metadata": {},
   "source": [
    "## Step 3. Check status and metrics"
   ]
  },
  {
   "cell_type": "code",
   "execution_count": 32,
   "id": "6f67249e-f086-4aba-9d96-b9a745a9cb69",
   "metadata": {},
   "outputs": [
    {
     "data": {
      "text/plain": [
       "SyncCursorPage[FineTuningJob](data=[FineTuningJob(id='ftjob-pnoDYapj3ivKfEWqMn3lxtZ5', created_at=1706465262, error=None, fine_tuned_model=None, finished_at=None, hyperparameters=Hyperparameters(n_epochs=6, batch_size=1, learning_rate_multiplier=2), model='gpt-3.5-turbo-0613', object='fine_tuning.job', organization_id='org-tTzcQbMEGIFBiKMGjDbIh6Zr', result_files=[], status='running', trained_tokens=None, training_file='file-JPbH5fwE9oeHJSqrmMIkHmli', validation_file=None)], object='list', has_more=True)"
      ]
     },
     "execution_count": 32,
     "metadata": {},
     "output_type": "execute_result"
    }
   ],
   "source": [
    "client.fine_tuning.jobs.list(limit=1)\n"
   ]
  },
  {
   "cell_type": "markdown",
   "id": "5de5b451-37ca-4ab3-99cc-9c326a0b21d4",
   "metadata": {},
   "source": [
    "### Below is a screenshot from https://platform.openai.com/finetune"
   ]
  },
  {
   "cell_type": "markdown",
   "id": "ef1eca80-4d0b-4b02-a68c-70a33ddb27d7",
   "metadata": {},
   "source": [
    "![open_ai_finetuning_job_metrics](metrics.png)\n"
   ]
  },
  {
   "cell_type": "markdown",
   "id": "13543e99-39eb-410c-8db1-e0b06badbc60",
   "metadata": {},
   "source": [
    "## find name of the fine tuned model"
   ]
  },
  {
   "cell_type": "code",
   "execution_count": 34,
   "id": "96efef42-9de2-4afe-85cf-6b03ac080a0c",
   "metadata": {},
   "outputs": [
    {
     "data": {
      "text/plain": [
       "FineTuningJob(id='ftjob-pnoDYapj3ivKfEWqMn3lxtZ5', created_at=1706465262, error=None, fine_tuned_model='ft:gpt-3.5-turbo-0613:personal::8m3x8R7u', finished_at=1706465628, hyperparameters=Hyperparameters(n_epochs=6, batch_size=1, learning_rate_multiplier=2), model='gpt-3.5-turbo-0613', object='fine_tuning.job', organization_id='org-tTzcQbMEGIFBiKMGjDbIh6Zr', result_files=['file-7NRDM6NeupETHZG77tTDXoXA'], status='succeeded', trained_tokens=3192, training_file='file-JPbH5fwE9oeHJSqrmMIkHmli', validation_file=None)"
      ]
     },
     "execution_count": 34,
     "metadata": {},
     "output_type": "execute_result"
    }
   ],
   "source": [
    "\n",
    "# Retrieve the state of a fine-tune\n",
    "client.fine_tuning.jobs.retrieve(\"ftjob-pnoDYapj3ivKfEWqMn3lxtZ5\")"
   ]
  },
  {
   "cell_type": "markdown",
   "id": "d1dd79ef-201b-4f4b-9802-e2dff312dbde",
   "metadata": {},
   "source": [
    "### Step 4. use fine tuned model for prediction"
   ]
  },
  {
   "cell_type": "markdown",
   "id": "dd02bf7a-eb28-4b3f-a5bb-1968af924da5",
   "metadata": {},
   "source": [
    "## Sample 1 : Get response from untuned model"
   ]
  },
  {
   "cell_type": "code",
   "execution_count": 48,
   "id": "a1fe9a6d-ea62-46f7-9a58-93a6e4084422",
   "metadata": {},
   "outputs": [
    {
     "name": "stdout",
     "output_type": "stream",
     "text": [
      "ChatCompletionMessage(content='Engorgio Ball!', role='assistant', function_call=None, tool_calls=None)\n"
     ]
    }
   ],
   "source": [
    "response = client.chat.completions.create(\n",
    "  model=\"gpt-3.5-turbo-0613\",\n",
    "  messages=[\n",
    "    {\"role\": \"system\", \"content\": \"you are an assistant that will answer in harry potter spell format.\"},\n",
    "    {\"role\": \"user\", \"content\": \"throw ball?\"}\n",
    "  ]\n",
    ")\n",
    "print(response.choices[0].message)"
   ]
  },
  {
   "cell_type": "markdown",
   "id": "e0e4acf4-0a2d-47fa-9dd5-48294444c04c",
   "metadata": {},
   "source": [
    "## Sample 1 :Get response from fine tuned model"
   ]
  },
  {
   "cell_type": "code",
   "execution_count": 38,
   "id": "1bf41c9e-6bdc-4d86-ad45-69c54d9786a2",
   "metadata": {},
   "outputs": [
    {
     "name": "stdout",
     "output_type": "stream",
     "text": [
      "ChatCompletionMessage(content='ballus throwum', role='assistant', function_call=None, tool_calls=None)\n"
     ]
    }
   ],
   "source": [
    "response = client.chat.completions.create(\n",
    "    model=\"ft:gpt-3.5-turbo-0613:personal::8m3x8R7u\",\n",
    "  messages=[\n",
    "    {\"role\": \"system\", \"content\": \"you are an assistant that will answer in harry potter spell format.\"},\n",
    "    {\"role\": \"user\", \"content\": \"throw ball\"}\n",
    "  ]\n",
    ")\n",
    "print(response.choices[0].message)"
   ]
  },
  {
   "cell_type": "markdown",
   "id": "958f462a-6a32-44c9-a9ce-5be0be5ed99c",
   "metadata": {},
   "source": [
    "## Sample 2 :Get response from fine tuned model"
   ]
  },
  {
   "cell_type": "code",
   "execution_count": 39,
   "id": "bbb5a803-f637-41e0-b13b-ca60306930f2",
   "metadata": {},
   "outputs": [
    {
     "name": "stdout",
     "output_type": "stream",
     "text": [
      "ChatCompletionMessage(content='song sing', role='assistant', function_call=None, tool_calls=None)\n"
     ]
    }
   ],
   "source": [
    "response = client.chat.completions.create(\n",
    "    model=\"ft:gpt-3.5-turbo-0613:personal::8m3x8R7u\",\n",
    "  messages=[\n",
    "    {\"role\": \"system\", \"content\": \"you are an assistant that will answer in harry potter spell format.\"},\n",
    "    {\"role\": \"user\", \"content\": \"sing song\"}\n",
    "  ]\n",
    ")\n",
    "print(response.choices[0].message)"
   ]
  },
  {
   "cell_type": "markdown",
   "id": "9661a899-b9c9-4491-995b-fdcc0ae0b728",
   "metadata": {},
   "source": [
    "## Sample 2 : Get response from untuned model"
   ]
  },
  {
   "cell_type": "code",
   "execution_count": 40,
   "id": "9812e61f-9011-450b-b71b-af4acfb4df96",
   "metadata": {},
   "outputs": [
    {
     "name": "stdout",
     "output_type": "stream",
     "text": [
      "ChatCompletionMessage(content='Sonorus! Let the sound be amplified, as I sing for you with joy and pride. La-la-la-la!', role='assistant', function_call=None, tool_calls=None)\n"
     ]
    }
   ],
   "source": [
    "response = client.chat.completions.create(\n",
    "  model=\"gpt-3.5-turbo-0613\",\n",
    "  messages=[\n",
    "    {\"role\": \"system\", \"content\": \"you are an assistant that will answer in harry potter spell format.\"},\n",
    "    {\"role\": \"user\", \"content\": \"sing song\"}\n",
    "  ]\n",
    ")\n",
    "print(response.choices[0].message)"
   ]
  },
  {
   "cell_type": "markdown",
   "id": "b03e6c04-dec4-47e7-a5a4-800303dda3cc",
   "metadata": {},
   "source": [
    "## Sample 3 :Get response from fine tuned model"
   ]
  },
  {
   "cell_type": "code",
   "execution_count": 41,
   "id": "6b07154d-9459-4832-bc1c-b14805872e08",
   "metadata": {},
   "outputs": [
    {
     "name": "stdout",
     "output_type": "stream",
     "text": [
      "ChatCompletionMessage(content='essayus writeum', role='assistant', function_call=None, tool_calls=None)\n"
     ]
    }
   ],
   "source": [
    "response = client.chat.completions.create(\n",
    "    model=\"ft:gpt-3.5-turbo-0613:personal::8m3x8R7u\",\n",
    "  messages=[\n",
    "    {\"role\": \"system\", \"content\": \"you are an assistant that will answer in harry potter spell format.\"},\n",
    "    {\"role\": \"user\", \"content\": \"write essay\"}\n",
    "  ]\n",
    ")\n",
    "print(response.choices[0].message)"
   ]
  },
  {
   "cell_type": "markdown",
   "id": "5673b2ad-9168-4dd8-a73b-3c5945ac160a",
   "metadata": {},
   "source": [
    "## Sample 3 :Get response from untuned model"
   ]
  },
  {
   "cell_type": "code",
   "execution_count": 42,
   "id": "905a06a6-93d7-495e-95ba-2c240e482c34",
   "metadata": {},
   "outputs": [
    {
     "name": "stdout",
     "output_type": "stream",
     "text": [
      "ChatCompletionMessage(content=\"Alohomora! Let the words flow and reveal the essay's topic. Lumos! Illuminate the path to a well-crafted introduction. Expecto Patronum! Summon the main ideas and arguments to defend your thesis. Incendio! Ignite the momentum with compelling evidence and examples. Wingardium Leviosa! Elevate your analysis to new heights. Riddikulus! Laugh away any potential weaknesses with solid counterarguments. Episkey! Mend any flaws in your logic or structure. Expecto Patronum! Conclude with a powerful summary that leaves a lasting impression. Finite Incantatem! End the essay with finesse and confidence.\", role='assistant', function_call=None, tool_calls=None)\n"
     ]
    }
   ],
   "source": [
    "response = client.chat.completions.create(\n",
    "  model=\"gpt-3.5-turbo-0613\",\n",
    "  messages=[\n",
    "    {\"role\": \"system\", \"content\": \"you are an assistant that will answer in harry potter spell format.\"},\n",
    "    {\"role\": \"user\", \"content\": \"write essay\"}\n",
    "  ]\n",
    ")\n",
    "print(response.choices[0].message)"
   ]
  }
 ],
 "metadata": {
  "kernelspec": {
   "display_name": "Python 3 (ipykernel)",
   "language": "python",
   "name": "python3"
  },
  "language_info": {
   "codemirror_mode": {
    "name": "ipython",
    "version": 3
   },
   "file_extension": ".py",
   "mimetype": "text/x-python",
   "name": "python",
   "nbconvert_exporter": "python",
   "pygments_lexer": "ipython3",
   "version": "3.9.4"
  }
 },
 "nbformat": 4,
 "nbformat_minor": 5
}
